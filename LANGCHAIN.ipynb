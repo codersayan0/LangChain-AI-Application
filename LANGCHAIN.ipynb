{
  "cells": [
    {
      "cell_type": "code",
      "execution_count": null,
      "metadata": {
        "id": "StUcdmaDC_4b"
      },
      "outputs": [],
      "source": [
        "pip install -q langchain_google_genai langchain langchain_community"
      ]
    },
    {
      "cell_type": "code",
      "execution_count": null,
      "metadata": {
        "id": "dthFj43UDnxv"
      },
      "outputs": [],
      "source": [
        "import os\n",
        "\n",
        "# Set environment variables\n",
        "os.environ[\"LANGCHAIN_TRACING_V2\"] = \"true\"\n",
        "os.environ[\"LANGCHAIN_API_KEY\"] = \"your_langchain_api_key_here\"\n",
        "os.environ[\"LANGCHAIN_ENDPOINT\"] = \"https://api.smith.langchain.com\"\n",
        "os.environ[\"LANGCHAIN_PROJECT\"] = \"chatbot_with_langchain\"  \n",
        "os.environ[\"GOOGLE_API_KEY\"] = \"your_google_api_key_here\"\n"
      ]
    },
    {
      "cell_type": "code",
      "execution_count": null,
      "metadata": {
        "id": "vpR14CStcDFv"
      },
      "outputs": [],
      "source": [
        "from langchain_google_genai import ChatGoogleGenerativeAI\n"
      ]
    },
    {
      "cell_type": "code",
      "execution_count": null,
      "metadata": {
        "id": "2f2jJKXncDg3"
      },
      "outputs": [],
      "source": [
        "model=ChatGoogleGenerativeAI(model=\"gemini-1.5-flash-latest\",convert_system_message_to_human=True)"
      ]
    },
    {
      "cell_type": "code",
      "execution_count": null,
      "metadata": {
        "id": "XPWn8WUGcDsn"
      },
      "outputs": [],
      "source": [
        "model.invoke(\"hi\").content"
      ]
    },
    {
      "cell_type": "code",
      "execution_count": null,
      "metadata": {
        "id": "yZjq9sNKcD4I"
      },
      "outputs": [],
      "source": [
        "from langchain_core.output_parsers import StrOutputParser"
      ]
    },
    {
      "cell_type": "code",
      "execution_count": null,
      "metadata": {
        "id": "Lzq3maSdcV4Q"
      },
      "outputs": [],
      "source": [
        "parser=StrOutputParser()"
      ]
    },
    {
      "cell_type": "code",
      "execution_count": null,
      "metadata": {
        "id": "H0eukLPIcWAn"
      },
      "outputs": [],
      "source": [
        "parser.invoke(model.invoke(\"hi\"))"
      ]
    },
    {
      "cell_type": "code",
      "execution_count": null,
      "metadata": {
        "id": "VrWCMGvVcciR"
      },
      "outputs": [],
      "source": [
        "from langchain_core.messages import HumanMessage"
      ]
    },
    {
      "cell_type": "code",
      "execution_count": null,
      "metadata": {
        "id": "BsVXw8FqccsQ"
      },
      "outputs": [],
      "source": [
        "import warnings\n",
        "warnings.filterwarnings(\"ignore\")"
      ]
    },
    {
      "cell_type": "code",
      "execution_count": null,
      "metadata": {
        "id": "rZtH2WdOcc43"
      },
      "outputs": [],
      "source": [
        "while True:\n",
        "  message=input(\"write your query:\")\n",
        "  if message==\"bye\":\n",
        "    print(\"good bye have a great day!\")\n",
        "    break\n",
        "  else:\n",
        "    print(parser.invoke(model.invoke([HumanMessage(content=message)])))\n",
        "\n",
        "\n",
        "\n",
        "\n"
      ]
    },
    {
      "cell_type": "code",
      "execution_count": null,
      "metadata": {
        "id": "_8Z-A1fLcod4"
      },
      "outputs": [],
      "source": [
        "from langchain_core.chat_history import BaseChatMessageHistory, InMemoryChatMessageHistory\n",
        "from langchain_core.runnables.history import RunnableWithMessageHistory\n",
        "from langchain_core.messages import AIMessage"
      ]
    },
    {
      "cell_type": "code",
      "execution_count": null,
      "metadata": {
        "id": "jxeZIWpNcrq3"
      },
      "outputs": [],
      "source": [
        "result=model.invoke(\n",
        "    [\n",
        "        HumanMessage(content=\"hi i am Sayan\"),\n",
        "        AIMessage(content=\"hello Sayan!what can i do for you?\"),\n",
        "        HumanMessage(content=\"what is my name?\")\n",
        "    ]\n",
        ")"
      ]
    },
    {
      "cell_type": "code",
      "execution_count": null,
      "metadata": {
        "id": "OhxprH5HGg-1"
      },
      "outputs": [],
      "source": [
        "parser.invoke(result)"
      ]
    },
    {
      "cell_type": "code",
      "execution_count": null,
      "metadata": {
        "id": "R4hV7snFGhIM"
      },
      "outputs": [],
      "source": [
        "store={}"
      ]
    },
    {
      "cell_type": "code",
      "execution_count": null,
      "metadata": {
        "id": "aXprzB31GhPz"
      },
      "outputs": [],
      "source": [
        "\n",
        "def get_session_history(session_id:str) -> BaseChatMessageHistory:\n",
        "  if session_id not in store:\n",
        "    store[session_id]=InMemoryChatMessageHistory()\n",
        "  return store[session_id]"
      ]
    },
    {
      "cell_type": "code",
      "execution_count": null,
      "metadata": {
        "id": "o5CCUcakGhT8"
      },
      "outputs": [],
      "source": [
        "config ={\"configurable\": {\"session_id\": \"firstchat\"}}"
      ]
    },
    {
      "cell_type": "code",
      "execution_count": null,
      "metadata": {
        "id": "7f7iTfqUGhX7"
      },
      "outputs": [],
      "source": [
        "model_with_memory=RunnableWithMessageHistory(model,get_session_history)"
      ]
    },
    {
      "cell_type": "code",
      "execution_count": null,
      "metadata": {
        "id": "D2Tc0Q4IGhbc"
      },
      "outputs": [],
      "source": [
        "model_with_memory.invoke([HumanMessage(content=\"Hi! I'm Sayan\")],config=config).content"
      ]
    },
    {
      "cell_type": "code",
      "execution_count": null,
      "metadata": {
        "id": "E5tHg0dRGhe3"
      },
      "outputs": [],
      "source": [
        "model_with_memory.invoke([HumanMessage(content=\"What is my name?\")],config=config).content"
      ]
    },
    {
      "cell_type": "code",
      "execution_count": null,
      "metadata": {
        "id": "qZDcV9GnGhiT"
      },
      "outputs": [],
      "source": [
        "config={\"configurable\":{\"session_id\":\"secondchat\"}}"
      ]
    },
    {
      "cell_type": "code",
      "execution_count": null,
      "metadata": {
        "id": "iB5zU2hZGhlr"
      },
      "outputs": [],
      "source": [
        "model_with_memory.invoke([HumanMessage(content=\"What is my name?\")],config=config).content"
      ]
    },
    {
      "cell_type": "code",
      "execution_count": null,
      "metadata": {
        "id": "fL9FcdKSG3-L"
      },
      "outputs": [],
      "source": [
        "config={\"configurable\":{\"session_id\":\"firstchat\"}}"
      ]
    },
    {
      "cell_type": "code",
      "execution_count": null,
      "metadata": {
        "id": "BwPLxT4AG4Gz"
      },
      "outputs": [],
      "source": [
        "config"
      ]
    },
    {
      "cell_type": "code",
      "execution_count": null,
      "metadata": {
        "id": "373iaX5KG4Or"
      },
      "outputs": [],
      "source": [
        "store"
      ]
    },
    {
      "cell_type": "code",
      "execution_count": null,
      "metadata": {
        "id": "voLxACDOG4Uk"
      },
      "outputs": [],
      "source": [
        "config={\"configurable\":{\"session_id\":\"firstchat\"}}"
      ]
    },
    {
      "cell_type": "code",
      "execution_count": null,
      "metadata": {
        "id": "iU0DwCQSG4Yt"
      },
      "outputs": [],
      "source": [
        "model_with_memory.invoke([HumanMessage(content=\"What is my name?\")],config=config).content"
      ]
    },
    {
      "cell_type": "code",
      "execution_count": null,
      "metadata": {
        "id": "EEnc6_wkG4cG"
      },
      "outputs": [],
      "source": [
        "from langchain_core.prompts import ChatPromptTemplate,MessagesPlaceholder"
      ]
    },
    {
      "cell_type": "code",
      "execution_count": null,
      "metadata": {
        "id": "Ua4QeVpYG4fj"
      },
      "outputs": [],
      "source": [
        "prompt=ChatPromptTemplate.from_messages(\n",
        "    [\n",
        "        (\"system\",\n",
        "         \"You are a helpful assistant.Answer all questions to the best of your ability.\",),\n",
        "        MessagesPlaceholder(variable_name=\"messages\"),\n",
        "\n",
        "    ]\n",
        ")"
      ]
    },
    {
      "cell_type": "code",
      "execution_count": null,
      "metadata": {
        "id": "zN0J_4k6G4i1"
      },
      "outputs": [],
      "source": [
        "chain = prompt | model"
      ]
    },
    {
      "cell_type": "code",
      "execution_count": null,
      "metadata": {
        "id": "PLpo1FoQG4mC"
      },
      "outputs": [],
      "source": [
        "chain.invoke({\"messages\":[\"hi! I am Sayan\"]})"
      ]
    },
    {
      "cell_type": "code",
      "execution_count": null,
      "metadata": {
        "id": "V9Nl-nerG4pr"
      },
      "outputs": [],
      "source": [
        "chain.invoke({\"messages\":[HumanMessage(content=\"What is my name?\")]}).content"
      ]
    },
    {
      "cell_type": "code",
      "execution_count": null,
      "metadata": {
        "id": "iqhmWZLHG4tO"
      },
      "outputs": [],
      "source": [
        "config={\"configurable\":{\"session_id\":\"thirdchat\"}}"
      ]
    },
    {
      "cell_type": "code",
      "execution_count": null,
      "metadata": {
        "id": "OvD_8veXG4wn"
      },
      "outputs": [],
      "source": [
        "response=model_with_memory.invoke(\n",
        "    [HumanMessage(content=\"Hi! I'm Sayan\"),\n",
        "    ],config=config\n",
        ")"
      ]
    },
    {
      "cell_type": "code",
      "execution_count": null,
      "metadata": {
        "id": "SyMtr2scG4zt"
      },
      "outputs": [],
      "source": [
        "response.content"
      ]
    },
    {
      "cell_type": "code",
      "execution_count": null,
      "metadata": {
        "id": "Sa4uWHwyG427"
      },
      "outputs": [],
      "source": [
        "from langchain_core.messages import HumanMessage, AIMessage"
      ]
    },
    {
      "cell_type": "code",
      "execution_count": null,
      "metadata": {
        "id": "R60khiSjG46Q"
      },
      "outputs": [],
      "source": [
        "response=model_with_memory.invoke(\n",
        "    [HumanMessage(content=\"What is  4+8?\"),\n",
        "    ],config=config\n",
        ")\n",
        "print(response.content)"
      ]
    },
    {
      "cell_type": "code",
      "execution_count": null,
      "metadata": {
        "id": "OZ9pN6Z3G49l"
      },
      "outputs": [],
      "source": [
        "response=model_with_memory.invoke(\n",
        "    [HumanMessage(content=\"What should i add in previous addition to make it 10?\"),\n",
        "    ],config=config\n",
        ")\n",
        "print(response.content)"
      ]
    },
    {
      "cell_type": "code",
      "execution_count": null,
      "metadata": {
        "id": "MEX4a2VHG5A6"
      },
      "outputs": [],
      "source": [
        "store"
      ]
    },
    {
      "cell_type": "code",
      "execution_count": null,
      "metadata": {
        "id": "aHiDY1C2G5Ei"
      },
      "outputs": [],
      "source": [
        "from langchain_core.messages import SystemMessage, trim_messages"
      ]
    },
    {
      "cell_type": "code",
      "execution_count": null,
      "metadata": {
        "id": "Rs9mrZBzG5H9"
      },
      "outputs": [],
      "source": [
        "trimmer = trim_messages(\n",
        "    max_tokens=60,\n",
        "    strategy=\"last\",\n",
        "    token_counter=model,\n",
        "    include_system=True,\n",
        "    allow_partial=False,\n",
        "    start_on=\"human\",\n",
        ")\n"
      ]
    },
    {
      "cell_type": "code",
      "execution_count": null,
      "metadata": {
        "id": "0eeNZyGEG5Ld"
      },
      "outputs": [],
      "source": [
        "messages=[\n",
        "\n",
        "    HumanMessage(content=\"Hi! I'm Sayan\"),\n",
        "    AIMessage(content=\"Hi\"),\n",
        "    HumanMessage(content=\"I like chocalate ice-cream\"),\n",
        "    AIMessage(\"content=nice\"),\n",
        "    HumanMessage(content=\"whats 2+2\"),\n",
        "    AIMessage(content=\"4\"),\n",
        "    HumanMessage(content=\"Thanks\"),\n",
        "    AIMessage(content=\"You're welcome\"),\n",
        "    HumanMessage(content=\"bye\"),\n",
        "    AIMessage(content=\"bye\"),\n",
        " ]"
      ]
    },
    {
      "cell_type": "code",
      "execution_count": null,
      "metadata": {
        "id": "D31PXJV_G5Or"
      },
      "outputs": [],
      "source": [
        "model.get_num_tokens_from_messages(messages)"
      ]
    },
    {
      "cell_type": "code",
      "execution_count": null,
      "metadata": {
        "id": "YO4NlR9JG5R9"
      },
      "outputs": [],
      "source": [
        "trimmer.invoke(messages)"
      ]
    },
    {
      "cell_type": "code",
      "execution_count": null,
      "metadata": {
        "id": "sJDt3KRXG5VY"
      },
      "outputs": [],
      "source": [
        "trimmed_messages=trimmer.invoke(messages)\n",
        "display(trimmed_messages)"
      ]
    },
    {
      "cell_type": "code",
      "execution_count": null,
      "metadata": {
        "id": "YZ8B9HQ0G5Y9"
      },
      "outputs": [],
      "source": [
        "model.get_num_tokens_from_messages(trimmed_messages)"
      ]
    },
    {
      "cell_type": "code",
      "execution_count": null,
      "metadata": {
        "id": "xNF5KbIvG5cO"
      },
      "outputs": [],
      "source": [
        "prompt"
      ]
    },
    {
      "cell_type": "code",
      "execution_count": null,
      "metadata": {
        "id": "GZNDKdniMN2r"
      },
      "outputs": [],
      "source": [
        "prompt=ChatPromptTemplate.from_messages(\n",
        "    [\n",
        "        (\"system\",\n",
        "         \"You are a helpful assistant.Answer all questions to the best of your ability.\",),\n",
        "        MessagesPlaceholder(variable_name=\"messages\"),\n",
        "\n",
        "    ]\n",
        ")"
      ]
    },
    {
      "cell_type": "code",
      "execution_count": null,
      "metadata": {
        "id": "L2fFGugGMN6j"
      },
      "outputs": [],
      "source": [
        "trimmed_messages"
      ]
    },
    {
      "cell_type": "code",
      "execution_count": null,
      "metadata": {
        "id": "cVXUUDm2MN98"
      },
      "outputs": [],
      "source": [
        "trimmed_messages + [HumanMessage(content=\"What is my Name?\")]"
      ]
    },
    {
      "cell_type": "code",
      "execution_count": null,
      "metadata": {
        "id": "jrJUxNikMOBM"
      },
      "outputs": [],
      "source": [
        "from operator import itemgetter\n",
        "from langchain_core.runnables import RunnablePassthrough\n",
        "chain =(\n",
        "    # RunnablePassthrough.assign(messages=itemgetter(\"messages\")|trimmer) # Removed this line\n",
        "    itemgetter(\"messages\")|trimmer # Pass the trimmed messages directly\n",
        "    |prompt\n",
        "    |model # Moved model after prompt\n",
        ")\n",
        "\n",
        "response = chain.invoke(\n",
        "    {\n",
        "    \"messages\": messages + [HumanMessage(content=\"What is my Name?\")],\n",
        "    \"language\": \"English\",\n",
        "    }\n",
        ")\n",
        "response.content"
      ]
    },
    {
      "cell_type": "code",
      "execution_count": null,
      "metadata": {
        "id": "GcVuoYgOMOEL"
      },
      "outputs": [],
      "source": [
        "model_with_memory = RunnableWithMessageHistory(\n",
        "    chain,\n",
        "    get_session_history,\n",
        "    input_messages_key=\"messages\",\n",
        ")\n"
      ]
    },
    {
      "cell_type": "code",
      "execution_count": null,
      "metadata": {
        "id": "N86ez7nHMOGt"
      },
      "outputs": [],
      "source": [
        "config = {\"configurable\": {\"session_id\": \"fifthchat\"}}"
      ]
    },
    {
      "cell_type": "code",
      "execution_count": null,
      "metadata": {
        "id": "QFEfiLXsMOJk"
      },
      "outputs": [],
      "source": [
        "response = model_with_memory.invoke(\n",
        "  {\"messages\": messages + [HumanMessage(content=\"What is my name?\")]},\n",
        "  config=config\n",
        ")\n",
        "response.content"
      ]
    },
    {
      "cell_type": "code",
      "execution_count": null,
      "metadata": {
        "id": "KY0zlC4jMOVt"
      },
      "outputs": [],
      "source": []
    }
  ],
  "metadata": {
    "colab": {
      "provenance": []
    },
    "kernelspec": {
      "display_name": "Python 3",
      "name": "python3"
    },
    "language_info": {
      "name": "python"
    }
  },
  "nbformat": 4,
  "nbformat_minor": 0
}
